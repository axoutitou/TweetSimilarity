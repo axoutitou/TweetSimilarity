{
 "cells": [
  {
   "cell_type": "code",
   "execution_count": 1,
   "metadata": {},
   "outputs": [],
   "source": [
    "import pandas as pd\n",
    "from nltk.tokenize import sent_tokenize, word_tokenize \n",
    "import warnings \n",
    "  \n",
    "warnings.filterwarnings(action = 'ignore') \n",
    "  \n",
    "import gensim \n",
    "from gensim.models import Word2Vec "
   ]
  },
  {
   "cell_type": "code",
   "execution_count": 2,
   "metadata": {},
   "outputs": [],
   "source": [
    "df = pd.read_csv('tweets.csv', index_col=0)"
   ]
  },
  {
   "cell_type": "code",
   "execution_count": 3,
   "metadata": {},
   "outputs": [
    {
     "data": {
      "text/html": [
       "<div>\n",
       "<style scoped>\n",
       "    .dataframe tbody tr th:only-of-type {\n",
       "        vertical-align: middle;\n",
       "    }\n",
       "\n",
       "    .dataframe tbody tr th {\n",
       "        vertical-align: top;\n",
       "    }\n",
       "\n",
       "    .dataframe thead th {\n",
       "        text-align: right;\n",
       "    }\n",
       "</style>\n",
       "<table border=\"1\" class=\"dataframe\">\n",
       "  <thead>\n",
       "    <tr style=\"text-align: right;\">\n",
       "      <th></th>\n",
       "      <th>date</th>\n",
       "      <th>id</th>\n",
       "      <th>link</th>\n",
       "      <th>retweet</th>\n",
       "      <th>text</th>\n",
       "      <th>author</th>\n",
       "    </tr>\n",
       "  </thead>\n",
       "  <tbody>\n",
       "    <tr>\n",
       "      <th>0</th>\n",
       "      <td>Oct 7</td>\n",
       "      <td>784609194234306560</td>\n",
       "      <td>/realDonaldTrump/status/784609194234306560</td>\n",
       "      <td>False</td>\n",
       "      <td>Here is my statement.pic.twitter.com/WAZiGoQqMQ</td>\n",
       "      <td>DonaldTrump</td>\n",
       "    </tr>\n",
       "    <tr>\n",
       "      <th>1</th>\n",
       "      <td>Oct 10</td>\n",
       "      <td>785608815962099712</td>\n",
       "      <td>/realDonaldTrump/status/785608815962099712</td>\n",
       "      <td>False</td>\n",
       "      <td>Is this really America? Terrible!pic.twitter.c...</td>\n",
       "      <td>DonaldTrump</td>\n",
       "    </tr>\n",
       "    <tr>\n",
       "      <th>2</th>\n",
       "      <td>Oct 8</td>\n",
       "      <td>784840992734064640</td>\n",
       "      <td>/realDonaldTrump/status/784840992734064641</td>\n",
       "      <td>False</td>\n",
       "      <td>The media and establishment want me out of the...</td>\n",
       "      <td>DonaldTrump</td>\n",
       "    </tr>\n",
       "    <tr>\n",
       "      <th>3</th>\n",
       "      <td>Oct 8</td>\n",
       "      <td>784767399442653184</td>\n",
       "      <td>/realDonaldTrump/status/784767399442653184</td>\n",
       "      <td>False</td>\n",
       "      <td>Certainly has been an interesting 24 hours!</td>\n",
       "      <td>DonaldTrump</td>\n",
       "    </tr>\n",
       "    <tr>\n",
       "      <th>4</th>\n",
       "      <td>Oct 10</td>\n",
       "      <td>785561269571026944</td>\n",
       "      <td>/realDonaldTrump/status/785561269571026946</td>\n",
       "      <td>False</td>\n",
       "      <td>Debate polls look great - thank you!\\r\\n#MAGA ...</td>\n",
       "      <td>DonaldTrump</td>\n",
       "    </tr>\n",
       "  </tbody>\n",
       "</table>\n",
       "</div>"
      ],
      "text/plain": [
       "     date                  id                                        link  \\\n",
       "0   Oct 7  784609194234306560  /realDonaldTrump/status/784609194234306560   \n",
       "1  Oct 10  785608815962099712  /realDonaldTrump/status/785608815962099712   \n",
       "2   Oct 8  784840992734064640  /realDonaldTrump/status/784840992734064641   \n",
       "3   Oct 8  784767399442653184  /realDonaldTrump/status/784767399442653184   \n",
       "4  Oct 10  785561269571026944  /realDonaldTrump/status/785561269571026946   \n",
       "\n",
       "   retweet                                               text       author  \n",
       "0    False    Here is my statement.pic.twitter.com/WAZiGoQqMQ  DonaldTrump  \n",
       "1    False  Is this really America? Terrible!pic.twitter.c...  DonaldTrump  \n",
       "2    False  The media and establishment want me out of the...  DonaldTrump  \n",
       "3    False        Certainly has been an interesting 24 hours!  DonaldTrump  \n",
       "4    False  Debate polls look great - thank you!\\r\\n#MAGA ...  DonaldTrump  "
      ]
     },
     "execution_count": 3,
     "metadata": {},
     "output_type": "execute_result"
    }
   ],
   "source": [
    "df.head()"
   ]
  },
  {
   "cell_type": "code",
   "execution_count": 4,
   "metadata": {},
   "outputs": [
    {
     "data": {
      "text/plain": [
       "(17216, 6)"
      ]
     },
     "execution_count": 4,
     "metadata": {},
     "output_type": "execute_result"
    }
   ],
   "source": [
    "df.shape"
   ]
  },
  {
   "cell_type": "code",
   "execution_count": 5,
   "metadata": {},
   "outputs": [
    {
     "name": "stdout",
     "output_type": "stream",
     "text": [
      "['here', 'is', 'my', 'statement.pic.twitter.com/wazigoqqmq']\n",
      "['is', 'this', 'really', 'america?', 'terrible!pic.twitter.com/wiwc61pifu']\n",
      "['the', 'media', 'and', 'establishment', 'want', 'me', 'out', 'of', 'the', 'race', 'so', 'badly', '-', '', 'i', 'will', 'never', 'drop', 'out', 'of', 'the', 'race,', 'will', 'never', 'let', 'my', 'supporters', 'down!', '#maga']\n",
      "['certainly', 'has', 'been', 'an', 'interesting', '24', 'hours!']\n",
      "['debate', 'polls', 'look', 'great', '-', 'thank', 'you!\\r']\n"
     ]
    }
   ],
   "source": [
    "corpus_text = '\\n'.join(df['text'])\n",
    "sentences = corpus_text.split('\\n')\n",
    "sentences = [line.lower().split(' ') for line in sentences]\n",
    "for i in range(5):\n",
    "    print(sentences[i])"
   ]
  },
  {
   "cell_type": "code",
   "execution_count": 6,
   "metadata": {},
   "outputs": [
    {
     "name": "stdout",
     "output_type": "stream",
     "text": [
      "['here', 'is', 'my', 'statement.pic.twitter.com/wazigoqqmq']\n",
      "['is', 'this', 'really', 'america', 'terrible!pic.twitter.com/wiwc61pifu']\n",
      "['the', 'media', 'and', 'establishment', 'want', 'me', 'out', 'of', 'the', 'race', 'so', 'badly', '-', '', 'i', 'will', 'never', 'drop', 'out', 'of', 'the', 'race', 'will', 'never', 'let', 'my', 'supporters', 'down', '#maga']\n",
      "['certainly', 'has', 'been', 'an', 'interesting', '24', 'hours']\n",
      "['debate', 'polls', 'look', 'great', '-', 'thank', 'you!\\r']\n"
     ]
    }
   ],
   "source": [
    "def clean(s):\n",
    "    return [w.strip(',.\"!?:;()\\'') for w in s]\n",
    "sentences = [clean(s) for s in sentences if len(s) > 0]\n",
    "for i in range(5):\n",
    "    print(sentences[i])"
   ]
  },
  {
   "cell_type": "code",
   "execution_count": 7,
   "metadata": {},
   "outputs": [],
   "source": [
    "from gensim.models import Doc2Vec\n",
    "from gensim.models.doc2vec import TaggedDocument\n",
    "\n",
    "documents = [TaggedDocument(doc, [i]) for i, doc in enumerate(sentences)]\n",
    "\n",
    "model = gensim.models.doc2vec.Doc2Vec(vector_size=30, min_count=2, epochs=40, window=2)\n",
    "model.build_vocab(documents)\n",
    "model.train(documents, total_examples=model.corpus_count, epochs=model.epochs)"
   ]
  },
  {
   "cell_type": "code",
   "execution_count": null,
   "metadata": {},
   "outputs": [],
   "source": []
  },
  {
   "cell_type": "code",
   "execution_count": 8,
   "metadata": {},
   "outputs": [],
   "source": [
    "new_sentence = \"i'm going to France for my hollidays\".split(\" \")  \n",
    "result = model.docvecs.most_similar(positive=[model.infer_vector(new_sentence)],topn=5)"
   ]
  },
  {
   "cell_type": "code",
   "execution_count": 9,
   "metadata": {},
   "outputs": [
    {
     "name": "stdout",
     "output_type": "stream",
     "text": [
      "Sentence :  ['my', 'parents:\\r']  | Score : 0.8574124574661255\n",
      "Sentence :  ['making', 'his', 'case', 'in', 'a', 'nice', 'and', 'articulate', 'manner']  | Score : 0.806242823600769\n",
      "Sentence :  ['here', 'is', 'my', 'statement.pic.twitter.com/wazigoqqmq']  | Score : 0.8033185005187988\n",
      "Sentence :  ['@neneleakes', 'seeks', 'my', 'advice', 'on', 'prenups', 'tonight', 'at', '9', 'pm', 'on', 'bravo']  | Score : 0.7755637168884277\n",
      "Sentence :  ['thank', 'you', 'for', 'your', 'support!http://www.usnews.com/news/blogs/run-2016/2016/01/28/with-his-absence-trump-dominates-another-debate\\xa0…']  | Score : 0.7738782167434692\n"
     ]
    }
   ],
   "source": [
    "for tag, score in result:\n",
    "    print(\"Sentence : \", documents[tag].words,\" | Score :\", score )"
   ]
  },
  {
   "cell_type": "code",
   "execution_count": 10,
   "metadata": {},
   "outputs": [],
   "source": [
    "import pickle\n",
    "\n",
    "with open('model.pkl', 'wb') as f:\n",
    "    pickle.dump(model, f)\n",
    "\n",
    "with open('documents.pkl', 'wb') as f:\n",
    "    pickle.dump(documents, f)"
   ]
  }
 ],
 "metadata": {
  "kernelspec": {
   "display_name": "Python 3",
   "language": "python",
   "name": "python3"
  },
  "language_info": {
   "codemirror_mode": {
    "name": "ipython",
    "version": 3
   },
   "file_extension": ".py",
   "mimetype": "text/x-python",
   "name": "python",
   "nbconvert_exporter": "python",
   "pygments_lexer": "ipython3",
   "version": "3.7.6"
  }
 },
 "nbformat": 4,
 "nbformat_minor": 4
}
